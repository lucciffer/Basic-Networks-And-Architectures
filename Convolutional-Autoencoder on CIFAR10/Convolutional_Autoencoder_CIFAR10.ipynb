{
  "nbformat": 4,
  "nbformat_minor": 0,
  "metadata": {
    "colab": {
      "name": "Convolutional-Autoencoder-CIFAR10.ipynb",
      "provenance": []
    },
    "kernelspec": {
      "name": "python3",
      "display_name": "Python 3"
    },
    "language_info": {
      "name": "python"
    },
    "accelerator": "GPU",
    "widgets": {
      "application/vnd.jupyter.widget-state+json": {
        "35e0acfc65a4418eb678751514658763": {
          "model_module": "@jupyter-widgets/controls",
          "model_name": "HBoxModel",
          "state": {
            "_view_name": "HBoxView",
            "_dom_classes": [],
            "_model_name": "HBoxModel",
            "_view_module": "@jupyter-widgets/controls",
            "_model_module_version": "1.5.0",
            "_view_count": null,
            "_view_module_version": "1.5.0",
            "box_style": "",
            "layout": "IPY_MODEL_3879136a66464c9987d6958d979d6284",
            "_model_module": "@jupyter-widgets/controls",
            "children": [
              "IPY_MODEL_07b7218cc65d45149340cb0a7b755926",
              "IPY_MODEL_2bf5d91583484465999a76ca502b204a"
            ]
          }
        },
        "3879136a66464c9987d6958d979d6284": {
          "model_module": "@jupyter-widgets/base",
          "model_name": "LayoutModel",
          "state": {
            "_view_name": "LayoutView",
            "grid_template_rows": null,
            "right": null,
            "justify_content": null,
            "_view_module": "@jupyter-widgets/base",
            "overflow": null,
            "_model_module_version": "1.2.0",
            "_view_count": null,
            "flex_flow": null,
            "width": null,
            "min_width": null,
            "border": null,
            "align_items": null,
            "bottom": null,
            "_model_module": "@jupyter-widgets/base",
            "top": null,
            "grid_column": null,
            "overflow_y": null,
            "overflow_x": null,
            "grid_auto_flow": null,
            "grid_area": null,
            "grid_template_columns": null,
            "flex": null,
            "_model_name": "LayoutModel",
            "justify_items": null,
            "grid_row": null,
            "max_height": null,
            "align_content": null,
            "visibility": null,
            "align_self": null,
            "height": null,
            "min_height": null,
            "padding": null,
            "grid_auto_rows": null,
            "grid_gap": null,
            "max_width": null,
            "order": null,
            "_view_module_version": "1.2.0",
            "grid_template_areas": null,
            "object_position": null,
            "object_fit": null,
            "grid_auto_columns": null,
            "margin": null,
            "display": null,
            "left": null
          }
        },
        "07b7218cc65d45149340cb0a7b755926": {
          "model_module": "@jupyter-widgets/controls",
          "model_name": "FloatProgressModel",
          "state": {
            "_view_name": "ProgressView",
            "style": "IPY_MODEL_1751070b89d34f7f877ad5c96abbe545",
            "_dom_classes": [],
            "description": "",
            "_model_name": "FloatProgressModel",
            "bar_style": "success",
            "max": 170498071,
            "_view_module": "@jupyter-widgets/controls",
            "_model_module_version": "1.5.0",
            "value": 170498071,
            "_view_count": null,
            "_view_module_version": "1.5.0",
            "orientation": "horizontal",
            "min": 0,
            "description_tooltip": null,
            "_model_module": "@jupyter-widgets/controls",
            "layout": "IPY_MODEL_e08f285a135a4bedafd5c36a4b7a966c"
          }
        },
        "2bf5d91583484465999a76ca502b204a": {
          "model_module": "@jupyter-widgets/controls",
          "model_name": "HTMLModel",
          "state": {
            "_view_name": "HTMLView",
            "style": "IPY_MODEL_ed6d1f61e5f1444cbe68f7f51e5d0ea1",
            "_dom_classes": [],
            "description": "",
            "_model_name": "HTMLModel",
            "placeholder": "​",
            "_view_module": "@jupyter-widgets/controls",
            "_model_module_version": "1.5.0",
            "value": " 170499072/? [49:57&lt;00:00, 56871.15it/s]",
            "_view_count": null,
            "_view_module_version": "1.5.0",
            "description_tooltip": null,
            "_model_module": "@jupyter-widgets/controls",
            "layout": "IPY_MODEL_7eee6c07fe134ef9b32ec285f5f95ca8"
          }
        },
        "1751070b89d34f7f877ad5c96abbe545": {
          "model_module": "@jupyter-widgets/controls",
          "model_name": "ProgressStyleModel",
          "state": {
            "_view_name": "StyleView",
            "_model_name": "ProgressStyleModel",
            "description_width": "initial",
            "_view_module": "@jupyter-widgets/base",
            "_model_module_version": "1.5.0",
            "_view_count": null,
            "_view_module_version": "1.2.0",
            "bar_color": null,
            "_model_module": "@jupyter-widgets/controls"
          }
        },
        "e08f285a135a4bedafd5c36a4b7a966c": {
          "model_module": "@jupyter-widgets/base",
          "model_name": "LayoutModel",
          "state": {
            "_view_name": "LayoutView",
            "grid_template_rows": null,
            "right": null,
            "justify_content": null,
            "_view_module": "@jupyter-widgets/base",
            "overflow": null,
            "_model_module_version": "1.2.0",
            "_view_count": null,
            "flex_flow": null,
            "width": null,
            "min_width": null,
            "border": null,
            "align_items": null,
            "bottom": null,
            "_model_module": "@jupyter-widgets/base",
            "top": null,
            "grid_column": null,
            "overflow_y": null,
            "overflow_x": null,
            "grid_auto_flow": null,
            "grid_area": null,
            "grid_template_columns": null,
            "flex": null,
            "_model_name": "LayoutModel",
            "justify_items": null,
            "grid_row": null,
            "max_height": null,
            "align_content": null,
            "visibility": null,
            "align_self": null,
            "height": null,
            "min_height": null,
            "padding": null,
            "grid_auto_rows": null,
            "grid_gap": null,
            "max_width": null,
            "order": null,
            "_view_module_version": "1.2.0",
            "grid_template_areas": null,
            "object_position": null,
            "object_fit": null,
            "grid_auto_columns": null,
            "margin": null,
            "display": null,
            "left": null
          }
        },
        "ed6d1f61e5f1444cbe68f7f51e5d0ea1": {
          "model_module": "@jupyter-widgets/controls",
          "model_name": "DescriptionStyleModel",
          "state": {
            "_view_name": "StyleView",
            "_model_name": "DescriptionStyleModel",
            "description_width": "",
            "_view_module": "@jupyter-widgets/base",
            "_model_module_version": "1.5.0",
            "_view_count": null,
            "_view_module_version": "1.2.0",
            "_model_module": "@jupyter-widgets/controls"
          }
        },
        "7eee6c07fe134ef9b32ec285f5f95ca8": {
          "model_module": "@jupyter-widgets/base",
          "model_name": "LayoutModel",
          "state": {
            "_view_name": "LayoutView",
            "grid_template_rows": null,
            "right": null,
            "justify_content": null,
            "_view_module": "@jupyter-widgets/base",
            "overflow": null,
            "_model_module_version": "1.2.0",
            "_view_count": null,
            "flex_flow": null,
            "width": null,
            "min_width": null,
            "border": null,
            "align_items": null,
            "bottom": null,
            "_model_module": "@jupyter-widgets/base",
            "top": null,
            "grid_column": null,
            "overflow_y": null,
            "overflow_x": null,
            "grid_auto_flow": null,
            "grid_area": null,
            "grid_template_columns": null,
            "flex": null,
            "_model_name": "LayoutModel",
            "justify_items": null,
            "grid_row": null,
            "max_height": null,
            "align_content": null,
            "visibility": null,
            "align_self": null,
            "height": null,
            "min_height": null,
            "padding": null,
            "grid_auto_rows": null,
            "grid_gap": null,
            "max_width": null,
            "order": null,
            "_view_module_version": "1.2.0",
            "grid_template_areas": null,
            "object_position": null,
            "object_fit": null,
            "grid_auto_columns": null,
            "margin": null,
            "display": null,
            "left": null
          }
        }
      }
    }
  },
  "cells": [
    {
      "cell_type": "code",
      "metadata": {
        "colab": {
          "base_uri": "https://localhost:8080/"
        },
        "id": "YlmMrxkSKwNh",
        "outputId": "ed0108fa-c090-44ea-c7de-4b5e02d0c3df"
      },
      "source": [
        "!nvidia-smi"
      ],
      "execution_count": 1,
      "outputs": [
        {
          "output_type": "stream",
          "text": [
            "Mon May 10 12:06:07 2021       \n",
            "+-----------------------------------------------------------------------------+\n",
            "| NVIDIA-SMI 465.19.01    Driver Version: 460.32.03    CUDA Version: 11.2     |\n",
            "|-------------------------------+----------------------+----------------------+\n",
            "| GPU  Name        Persistence-M| Bus-Id        Disp.A | Volatile Uncorr. ECC |\n",
            "| Fan  Temp  Perf  Pwr:Usage/Cap|         Memory-Usage | GPU-Util  Compute M. |\n",
            "|                               |                      |               MIG M. |\n",
            "|===============================+======================+======================|\n",
            "|   0  Tesla K80           Off  | 00000000:00:04.0 Off |                    0 |\n",
            "| N/A   43C    P8    29W / 149W |      0MiB / 11441MiB |      0%      Default |\n",
            "|                               |                      |                  N/A |\n",
            "+-------------------------------+----------------------+----------------------+\n",
            "                                                                               \n",
            "+-----------------------------------------------------------------------------+\n",
            "| Processes:                                                                  |\n",
            "|  GPU   GI   CI        PID   Type   Process name                  GPU Memory |\n",
            "|        ID   ID                                                   Usage      |\n",
            "|=============================================================================|\n",
            "|  No running processes found                                                 |\n",
            "+-----------------------------------------------------------------------------+\n"
          ],
          "name": "stdout"
        }
      ]
    },
    {
      "cell_type": "code",
      "metadata": {
        "id": "SVTxS2JrK5SF"
      },
      "source": [
        "import os\n",
        "import torch \n",
        "import torchvision\n",
        "import torch.nn as nn\n",
        "import torchvision.transforms as transforms\n",
        "import torch.optim as optim\n",
        "import torch.nn.functional as F\n",
        "import matplotlib.pyplot as plt\n",
        "\n",
        "from torchvision import datasets\n",
        "from torch.utils.data import DataLoader\n",
        "from torchvision.utils import save_image"
      ],
      "execution_count": 2,
      "outputs": []
    },
    {
      "cell_type": "code",
      "metadata": {
        "id": "SSDwKvoWK9mo"
      },
      "source": [
        "NUM_EPOCHS = 100\n",
        "LEARNING_RATE = 1e-3\n",
        "BATCH_SIZE = 32"
      ],
      "execution_count": 3,
      "outputs": []
    },
    {
      "cell_type": "code",
      "metadata": {
        "id": "BU3nquDELBbJ"
      },
      "source": [
        "transform = transforms.Compose([\n",
        "    transforms.ToTensor(),\n",
        "    transforms.Normalize((0.5, 0.5, 0.5), (0.5, 0.5, 0.5))\n",
        "])"
      ],
      "execution_count": 4,
      "outputs": []
    },
    {
      "cell_type": "code",
      "metadata": {
        "colab": {
          "base_uri": "https://localhost:8080/",
          "height": 118,
          "referenced_widgets": [
            "35e0acfc65a4418eb678751514658763",
            "3879136a66464c9987d6958d979d6284",
            "07b7218cc65d45149340cb0a7b755926",
            "2bf5d91583484465999a76ca502b204a",
            "1751070b89d34f7f877ad5c96abbe545",
            "e08f285a135a4bedafd5c36a4b7a966c",
            "ed6d1f61e5f1444cbe68f7f51e5d0ea1",
            "7eee6c07fe134ef9b32ec285f5f95ca8"
          ]
        },
        "id": "FS2JLVmpLEHw",
        "outputId": "fde3235d-3807-4ef5-f1c9-9768e07465e1"
      },
      "source": [
        "trainset = datasets.CIFAR10(\n",
        "    root='./data',\n",
        "    train=True, \n",
        "    download=True,\n",
        "    transform=transform\n",
        ")\n",
        "testset = datasets.CIFAR10(\n",
        "    root='./data',\n",
        "    train=False,\n",
        "    download=True,\n",
        "    transform=transform\n",
        ")\n",
        "trainloader = DataLoader(\n",
        "    trainset, \n",
        "    batch_size=BATCH_SIZE,\n",
        "    shuffle=True\n",
        ")\n",
        "testloader = DataLoader(\n",
        "    testset, \n",
        "    batch_size=BATCH_SIZE, \n",
        "    shuffle=True\n",
        ")"
      ],
      "execution_count": 5,
      "outputs": [
        {
          "output_type": "stream",
          "text": [
            "Downloading https://www.cs.toronto.edu/~kriz/cifar-10-python.tar.gz to ./data/cifar-10-python.tar.gz\n"
          ],
          "name": "stdout"
        },
        {
          "output_type": "display_data",
          "data": {
            "application/vnd.jupyter.widget-view+json": {
              "model_id": "35e0acfc65a4418eb678751514658763",
              "version_minor": 0,
              "version_major": 2
            },
            "text/plain": [
              "HBox(children=(FloatProgress(value=0.0, max=170498071.0), HTML(value='')))"
            ]
          },
          "metadata": {
            "tags": []
          }
        },
        {
          "output_type": "stream",
          "text": [
            "\n",
            "Extracting ./data/cifar-10-python.tar.gz to ./data\n",
            "Files already downloaded and verified\n"
          ],
          "name": "stdout"
        }
      ]
    },
    {
      "cell_type": "code",
      "metadata": {
        "id": "RthdLO4QLGLU"
      },
      "source": [
        "def get_device():\n",
        "    if torch.cuda.is_available():\n",
        "        device = 'cuda:0'\n",
        "    else:\n",
        "        device = 'cpu'\n",
        "    return device\n",
        "def make_dir():\n",
        "    image_dir = 'Conv_CIFAR10_Images'\n",
        "    if not os.path.exists(image_dir):\n",
        "        os.makedirs(image_dir)\n",
        "def save_decoded_image(img, name):\n",
        "    img = img.view(img.size(0), 3, 32, 32)\n",
        "    save_image(img, name)"
      ],
      "execution_count": 6,
      "outputs": []
    },
    {
      "cell_type": "code",
      "metadata": {
        "colab": {
          "base_uri": "https://localhost:8080/"
        },
        "id": "IjVZOd7yLIzr",
        "outputId": "80abdcc9-a158-4755-f895-9a39fabc2b7f"
      },
      "source": [
        "class Autoencoder(nn.Module):\n",
        "    def __init__(self):\n",
        "        super(Autoencoder, self).__init__()\n",
        "        # encoder\n",
        "        self.enc1 = nn.Conv2d(\n",
        "            in_channels=3, out_channels=8, kernel_size=3\n",
        "        )\n",
        "        self.enc2 = nn.Conv2d(\n",
        "            in_channels=8, out_channels=4, kernel_size=3\n",
        "        )\n",
        "        # decoder \n",
        "        self.dec1 = nn.ConvTranspose2d(\n",
        "            in_channels=4, out_channels=8, kernel_size=3\n",
        "        )\n",
        "        self.dec2 = nn.ConvTranspose2d(\n",
        "            in_channels=8, out_channels=3, kernel_size=3\n",
        "        )\n",
        "    def forward(self, x):\n",
        "       x = F.relu(self.enc1(x))\n",
        "       x = F.relu(self.enc2(x))\n",
        "       x = F.relu(self.dec1(x))\n",
        "       x = F.relu(self.dec2(x))\n",
        "       return x\n",
        "net = Autoencoder()\n",
        "print(net)"
      ],
      "execution_count": 7,
      "outputs": [
        {
          "output_type": "stream",
          "text": [
            "Autoencoder(\n",
            "  (enc1): Conv2d(3, 8, kernel_size=(3, 3), stride=(1, 1))\n",
            "  (enc2): Conv2d(8, 4, kernel_size=(3, 3), stride=(1, 1))\n",
            "  (dec1): ConvTranspose2d(4, 8, kernel_size=(3, 3), stride=(1, 1))\n",
            "  (dec2): ConvTranspose2d(8, 3, kernel_size=(3, 3), stride=(1, 1))\n",
            ")\n"
          ],
          "name": "stdout"
        }
      ]
    },
    {
      "cell_type": "code",
      "metadata": {
        "id": "kcREOtdELNks"
      },
      "source": [
        "criterion = nn.MSELoss()\n",
        "optimizer = optim.Adam(net.parameters(), lr=LEARNING_RATE)"
      ],
      "execution_count": 8,
      "outputs": []
    },
    {
      "cell_type": "code",
      "metadata": {
        "id": "hUzidzKPLP3e"
      },
      "source": [
        "def train(net, trainloader, NUM_EPOCHS):\n",
        "    train_loss = []\n",
        "    for epoch in range(NUM_EPOCHS):\n",
        "        running_loss = 0.0\n",
        "        for data in trainloader:\n",
        "            img, _ = data # no need for the labels\n",
        "            img = img.to(device)\n",
        "            optimizer.zero_grad()\n",
        "            outputs = net(img)\n",
        "            loss = criterion(outputs, img)\n",
        "            loss.backward()\n",
        "            optimizer.step()\n",
        "            running_loss += loss.item()\n",
        "        \n",
        "        loss = running_loss / len(trainloader)\n",
        "        train_loss.append(loss)\n",
        "        print('Epoch {} of {}, Train Loss: {:.3f}'.format(\n",
        "            epoch+1, NUM_EPOCHS, loss))\n",
        "        if epoch % 5 == 0:\n",
        "            save_decoded_image(img.cpu().data, name='./Conv_CIFAR10_Images/original{}.png'.format(epoch))\n",
        "            save_decoded_image(outputs.cpu().data, name='./Conv_CIFAR10_Images/decoded{}.png'.format(epoch))\n",
        "    return train_loss\n",
        "def test_image_reconstruction(net, testloader):\n",
        "     for batch in testloader:\n",
        "        img, _ = batch\n",
        "        img = img.to(device)\n",
        "        outputs = net(img)\n",
        "        outputs = outputs.view(outputs.size(0), 3, 32, 32).cpu().data\n",
        "        save_image(outputs, 'conv_cifar10_reconstruction.png')\n",
        "        break"
      ],
      "execution_count": 9,
      "outputs": []
    },
    {
      "cell_type": "code",
      "metadata": {
        "colab": {
          "base_uri": "https://localhost:8080/",
          "height": 1000
        },
        "id": "YFsMjOBRLS0n",
        "outputId": "ed6f0321-5b74-4f84-e3c4-9123c3dea694"
      },
      "source": [
        "device = get_device()\n",
        "print(device)\n",
        "net.to(device)\n",
        "make_dir()\n",
        "train_loss = train(net, trainloader, NUM_EPOCHS)\n",
        "plt.figure()\n",
        "plt.plot(train_loss)\n",
        "plt.title('Train Loss')\n",
        "plt.xlabel('Epochs')\n",
        "plt.ylabel('Loss')\n",
        "plt.savefig('conv_ae_cifar10_loss.png')\n",
        "test_image_reconstruction(net, testloader)"
      ],
      "execution_count": 10,
      "outputs": [
        {
          "output_type": "stream",
          "text": [
            "cuda:0\n",
            "Epoch 1 of 100, Train Loss: 0.153\n",
            "Epoch 2 of 100, Train Loss: 0.147\n",
            "Epoch 3 of 100, Train Loss: 0.146\n",
            "Epoch 4 of 100, Train Loss: 0.145\n",
            "Epoch 5 of 100, Train Loss: 0.145\n",
            "Epoch 6 of 100, Train Loss: 0.145\n",
            "Epoch 7 of 100, Train Loss: 0.145\n",
            "Epoch 8 of 100, Train Loss: 0.145\n",
            "Epoch 9 of 100, Train Loss: 0.145\n",
            "Epoch 10 of 100, Train Loss: 0.145\n",
            "Epoch 11 of 100, Train Loss: 0.145\n",
            "Epoch 12 of 100, Train Loss: 0.145\n",
            "Epoch 13 of 100, Train Loss: 0.145\n",
            "Epoch 14 of 100, Train Loss: 0.144\n",
            "Epoch 15 of 100, Train Loss: 0.144\n",
            "Epoch 16 of 100, Train Loss: 0.144\n",
            "Epoch 17 of 100, Train Loss: 0.144\n",
            "Epoch 18 of 100, Train Loss: 0.144\n",
            "Epoch 19 of 100, Train Loss: 0.144\n",
            "Epoch 20 of 100, Train Loss: 0.144\n",
            "Epoch 21 of 100, Train Loss: 0.144\n",
            "Epoch 22 of 100, Train Loss: 0.144\n",
            "Epoch 23 of 100, Train Loss: 0.144\n",
            "Epoch 24 of 100, Train Loss: 0.144\n",
            "Epoch 25 of 100, Train Loss: 0.144\n",
            "Epoch 26 of 100, Train Loss: 0.144\n",
            "Epoch 27 of 100, Train Loss: 0.144\n",
            "Epoch 28 of 100, Train Loss: 0.144\n",
            "Epoch 29 of 100, Train Loss: 0.144\n",
            "Epoch 30 of 100, Train Loss: 0.144\n",
            "Epoch 31 of 100, Train Loss: 0.144\n",
            "Epoch 32 of 100, Train Loss: 0.144\n",
            "Epoch 33 of 100, Train Loss: 0.144\n",
            "Epoch 34 of 100, Train Loss: 0.144\n",
            "Epoch 35 of 100, Train Loss: 0.144\n",
            "Epoch 36 of 100, Train Loss: 0.144\n",
            "Epoch 37 of 100, Train Loss: 0.144\n",
            "Epoch 38 of 100, Train Loss: 0.144\n",
            "Epoch 39 of 100, Train Loss: 0.144\n",
            "Epoch 40 of 100, Train Loss: 0.144\n",
            "Epoch 41 of 100, Train Loss: 0.144\n",
            "Epoch 42 of 100, Train Loss: 0.144\n",
            "Epoch 43 of 100, Train Loss: 0.144\n",
            "Epoch 44 of 100, Train Loss: 0.144\n",
            "Epoch 45 of 100, Train Loss: 0.144\n",
            "Epoch 46 of 100, Train Loss: 0.144\n",
            "Epoch 47 of 100, Train Loss: 0.144\n",
            "Epoch 48 of 100, Train Loss: 0.144\n",
            "Epoch 49 of 100, Train Loss: 0.144\n",
            "Epoch 50 of 100, Train Loss: 0.144\n",
            "Epoch 51 of 100, Train Loss: 0.144\n",
            "Epoch 52 of 100, Train Loss: 0.144\n",
            "Epoch 53 of 100, Train Loss: 0.144\n",
            "Epoch 54 of 100, Train Loss: 0.144\n",
            "Epoch 55 of 100, Train Loss: 0.144\n",
            "Epoch 56 of 100, Train Loss: 0.144\n",
            "Epoch 57 of 100, Train Loss: 0.144\n",
            "Epoch 58 of 100, Train Loss: 0.144\n",
            "Epoch 59 of 100, Train Loss: 0.144\n",
            "Epoch 60 of 100, Train Loss: 0.144\n",
            "Epoch 61 of 100, Train Loss: 0.144\n",
            "Epoch 62 of 100, Train Loss: 0.144\n",
            "Epoch 63 of 100, Train Loss: 0.144\n",
            "Epoch 64 of 100, Train Loss: 0.144\n",
            "Epoch 65 of 100, Train Loss: 0.144\n",
            "Epoch 66 of 100, Train Loss: 0.144\n",
            "Epoch 67 of 100, Train Loss: 0.144\n",
            "Epoch 68 of 100, Train Loss: 0.144\n",
            "Epoch 69 of 100, Train Loss: 0.144\n",
            "Epoch 70 of 100, Train Loss: 0.144\n",
            "Epoch 71 of 100, Train Loss: 0.144\n",
            "Epoch 72 of 100, Train Loss: 0.144\n",
            "Epoch 73 of 100, Train Loss: 0.144\n",
            "Epoch 74 of 100, Train Loss: 0.143\n",
            "Epoch 75 of 100, Train Loss: 0.143\n",
            "Epoch 76 of 100, Train Loss: 0.143\n",
            "Epoch 77 of 100, Train Loss: 0.143\n",
            "Epoch 78 of 100, Train Loss: 0.143\n",
            "Epoch 79 of 100, Train Loss: 0.143\n",
            "Epoch 80 of 100, Train Loss: 0.143\n",
            "Epoch 81 of 100, Train Loss: 0.143\n",
            "Epoch 82 of 100, Train Loss: 0.143\n",
            "Epoch 83 of 100, Train Loss: 0.143\n",
            "Epoch 84 of 100, Train Loss: 0.143\n",
            "Epoch 85 of 100, Train Loss: 0.143\n",
            "Epoch 86 of 100, Train Loss: 0.143\n",
            "Epoch 87 of 100, Train Loss: 0.143\n",
            "Epoch 88 of 100, Train Loss: 0.143\n",
            "Epoch 89 of 100, Train Loss: 0.143\n",
            "Epoch 90 of 100, Train Loss: 0.143\n",
            "Epoch 91 of 100, Train Loss: 0.143\n",
            "Epoch 92 of 100, Train Loss: 0.143\n",
            "Epoch 93 of 100, Train Loss: 0.143\n",
            "Epoch 94 of 100, Train Loss: 0.143\n",
            "Epoch 95 of 100, Train Loss: 0.143\n",
            "Epoch 96 of 100, Train Loss: 0.143\n",
            "Epoch 97 of 100, Train Loss: 0.143\n",
            "Epoch 98 of 100, Train Loss: 0.143\n",
            "Epoch 99 of 100, Train Loss: 0.143\n",
            "Epoch 100 of 100, Train Loss: 0.143\n"
          ],
          "name": "stdout"
        },
        {
          "output_type": "display_data",
          "data": {
            "image/png": "[encoded data removed]",
            "text/plain": [
              "<Figure size 432x288 with 1 Axes>"
            ]
          },
          "metadata": {
            "tags": [],
            "needs_background": "light"
          }
        }
      ]
    },
    {
      "cell_type": "code",
      "metadata": {
        "colab": {
          "base_uri": "https://localhost:8080/"
        },
        "id": "TbppIk0hLXXm",
        "outputId": "c75fb447-20e3-48fc-a70a-ed72f16356f3"
      },
      "source": [
        "!zip -r export Conv_CIFAR10_Images/"
      ],
      "execution_count": 11,
      "outputs": [
        {
          "output_type": "stream",
          "text": [
            "  adding: Conv_CIFAR10_Images/ (stored 0%)\n",
            "  adding: Conv_CIFAR10_Images/decoded65.png (stored 0%)\n",
            "  adding: Conv_CIFAR10_Images/decoded0.png (stored 0%)\n",
            "  adding: Conv_CIFAR10_Images/decoded40.png (stored 0%)\n",
            "  adding: Conv_CIFAR10_Images/decoded35.png (stored 0%)\n",
            "  adding: Conv_CIFAR10_Images/original25.png (stored 0%)\n",
            "  adding: Conv_CIFAR10_Images/original75.png (stored 0%)\n",
            "  adding: Conv_CIFAR10_Images/original70.png (stored 0%)\n",
            "  adding: Conv_CIFAR10_Images/decoded60.png (stored 0%)\n",
            "  adding: Conv_CIFAR10_Images/decoded10.png (stored 0%)\n",
            "  adding: Conv_CIFAR10_Images/decoded5.png (stored 0%)\n",
            "  adding: Conv_CIFAR10_Images/decoded80.png (stored 0%)\n",
            "  adding: Conv_CIFAR10_Images/original50.png (stored 0%)\n",
            "  adding: Conv_CIFAR10_Images/original85.png (stored 0%)\n",
            "  adding: Conv_CIFAR10_Images/original15.png (stored 0%)\n",
            "  adding: Conv_CIFAR10_Images/original65.png (stored 0%)\n",
            "  adding: Conv_CIFAR10_Images/original60.png (stored 0%)\n",
            "  adding: Conv_CIFAR10_Images/original10.png (stored 0%)\n",
            "  adding: Conv_CIFAR10_Images/original45.png (stored 0%)\n",
            "  adding: Conv_CIFAR10_Images/decoded45.png (stored 0%)\n",
            "  adding: Conv_CIFAR10_Images/decoded15.png (stored 0%)\n",
            "  adding: Conv_CIFAR10_Images/original55.png (stored 0%)\n",
            "  adding: Conv_CIFAR10_Images/decoded75.png (stored 0%)\n",
            "  adding: Conv_CIFAR10_Images/original90.png (stored 0%)\n",
            "  adding: Conv_CIFAR10_Images/decoded50.png (stored 0%)\n",
            "  adding: Conv_CIFAR10_Images/original40.png (stored 0%)\n",
            "  adding: Conv_CIFAR10_Images/original5.png (stored 0%)\n",
            "  adding: Conv_CIFAR10_Images/original80.png (stored 0%)\n",
            "  adding: Conv_CIFAR10_Images/original20.png (stored 0%)\n",
            "  adding: Conv_CIFAR10_Images/original30.png (stored 0%)\n",
            "  adding: Conv_CIFAR10_Images/decoded30.png (stored 0%)\n",
            "  adding: Conv_CIFAR10_Images/decoded55.png (stored 0%)\n",
            "  adding: Conv_CIFAR10_Images/decoded85.png (stored 0%)\n",
            "  adding: Conv_CIFAR10_Images/decoded70.png (stored 0%)\n",
            "  adding: Conv_CIFAR10_Images/decoded90.png (stored 0%)\n",
            "  adding: Conv_CIFAR10_Images/decoded95.png (stored 0%)\n",
            "  adding: Conv_CIFAR10_Images/original0.png (stored 0%)\n",
            "  adding: Conv_CIFAR10_Images/decoded20.png (stored 0%)\n",
            "  adding: Conv_CIFAR10_Images/original35.png (stored 0%)\n",
            "  adding: Conv_CIFAR10_Images/original95.png (stored 0%)\n",
            "  adding: Conv_CIFAR10_Images/decoded25.png (stored 0%)\n"
          ],
          "name": "stdout"
        }
      ]
    }
  ]
}
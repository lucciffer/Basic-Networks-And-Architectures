{
  "nbformat": 4,
  "nbformat_minor": 0,
  "metadata": {
    "colab": {
      "name": "conv-ae-cifar10.ipynb",
      "provenance": [],
      "collapsed_sections": []
    },
    "kernelspec": {
      "name": "python3",
      "display_name": "Python 3"
    },
    "language_info": {
      "name": "python"
    },
    "accelerator": "GPU",
    "widgets": {
      "application/vnd.jupyter.widget-state+json": {
        "95444ec7b0b04d65aa365712dd724da2": {
          "model_module": "@jupyter-widgets/controls",
          "model_name": "HBoxModel",
          "state": {
            "_view_name": "HBoxView",
            "_dom_classes": [],
            "_model_name": "HBoxModel",
            "_view_module": "@jupyter-widgets/controls",
            "_model_module_version": "1.5.0",
            "_view_count": null,
            "_view_module_version": "1.5.0",
            "box_style": "",
            "layout": "IPY_MODEL_e0ea4b753d32467ba17728bb6b90f308",
            "_model_module": "@jupyter-widgets/controls",
            "children": [
              "IPY_MODEL_2f5bc47ec757494986a397c9aa00eb21",
              "IPY_MODEL_224cd747177b47da847a8a0e44ffab1e"
            ]
          }
        },
        "e0ea4b753d32467ba17728bb6b90f308": {
          "model_module": "@jupyter-widgets/base",
          "model_name": "LayoutModel",
          "state": {
            "_view_name": "LayoutView",
            "grid_template_rows": null,
            "right": null,
            "justify_content": null,
            "_view_module": "@jupyter-widgets/base",
            "overflow": null,
            "_model_module_version": "1.2.0",
            "_view_count": null,
            "flex_flow": null,
            "width": null,
            "min_width": null,
            "border": null,
            "align_items": null,
            "bottom": null,
            "_model_module": "@jupyter-widgets/base",
            "top": null,
            "grid_column": null,
            "overflow_y": null,
            "overflow_x": null,
            "grid_auto_flow": null,
            "grid_area": null,
            "grid_template_columns": null,
            "flex": null,
            "_model_name": "LayoutModel",
            "justify_items": null,
            "grid_row": null,
            "max_height": null,
            "align_content": null,
            "visibility": null,
            "align_self": null,
            "height": null,
            "min_height": null,
            "padding": null,
            "grid_auto_rows": null,
            "grid_gap": null,
            "max_width": null,
            "order": null,
            "_view_module_version": "1.2.0",
            "grid_template_areas": null,
            "object_position": null,
            "object_fit": null,
            "grid_auto_columns": null,
            "margin": null,
            "display": null,
            "left": null
          }
        },
        "2f5bc47ec757494986a397c9aa00eb21": {
          "model_module": "@jupyter-widgets/controls",
          "model_name": "FloatProgressModel",
          "state": {
            "_view_name": "ProgressView",
            "style": "IPY_MODEL_983c305520c144858ac183ecd0d28a4d",
            "_dom_classes": [],
            "description": "",
            "_model_name": "FloatProgressModel",
            "bar_style": "success",
            "max": 170498071,
            "_view_module": "@jupyter-widgets/controls",
            "_model_module_version": "1.5.0",
            "value": 170498071,
            "_view_count": null,
            "_view_module_version": "1.5.0",
            "orientation": "horizontal",
            "min": 0,
            "description_tooltip": null,
            "_model_module": "@jupyter-widgets/controls",
            "layout": "IPY_MODEL_e10596e38eb04bb5b586ffdc695c92cb"
          }
        },
        "224cd747177b47da847a8a0e44ffab1e": {
          "model_module": "@jupyter-widgets/controls",
          "model_name": "HTMLModel",
          "state": {
            "_view_name": "HTMLView",
            "style": "IPY_MODEL_ec386c889e334862ac4f1d16ec1bf166",
            "_dom_classes": [],
            "description": "",
            "_model_name": "HTMLModel",
            "placeholder": "​",
            "_view_module": "@jupyter-widgets/controls",
            "_model_module_version": "1.5.0",
            "value": " 170499072/? [00:16&lt;00:00, 10461465.61it/s]",
            "_view_count": null,
            "_view_module_version": "1.5.0",
            "description_tooltip": null,
            "_model_module": "@jupyter-widgets/controls",
            "layout": "IPY_MODEL_1c535d1dc1354c7593f8fbce9a4f72ec"
          }
        },
        "983c305520c144858ac183ecd0d28a4d": {
          "model_module": "@jupyter-widgets/controls",
          "model_name": "ProgressStyleModel",
          "state": {
            "_view_name": "StyleView",
            "_model_name": "ProgressStyleModel",
            "description_width": "initial",
            "_view_module": "@jupyter-widgets/base",
            "_model_module_version": "1.5.0",
            "_view_count": null,
            "_view_module_version": "1.2.0",
            "bar_color": null,
            "_model_module": "@jupyter-widgets/controls"
          }
        },
        "e10596e38eb04bb5b586ffdc695c92cb": {
          "model_module": "@jupyter-widgets/base",
          "model_name": "LayoutModel",
          "state": {
            "_view_name": "LayoutView",
            "grid_template_rows": null,
            "right": null,
            "justify_content": null,
            "_view_module": "@jupyter-widgets/base",
            "overflow": null,
            "_model_module_version": "1.2.0",
            "_view_count": null,
            "flex_flow": null,
            "width": null,
            "min_width": null,
            "border": null,
            "align_items": null,
            "bottom": null,
            "_model_module": "@jupyter-widgets/base",
            "top": null,
            "grid_column": null,
            "overflow_y": null,
            "overflow_x": null,
            "grid_auto_flow": null,
            "grid_area": null,
            "grid_template_columns": null,
            "flex": null,
            "_model_name": "LayoutModel",
            "justify_items": null,
            "grid_row": null,
            "max_height": null,
            "align_content": null,
            "visibility": null,
            "align_self": null,
            "height": null,
            "min_height": null,
            "padding": null,
            "grid_auto_rows": null,
            "grid_gap": null,
            "max_width": null,
            "order": null,
            "_view_module_version": "1.2.0",
            "grid_template_areas": null,
            "object_position": null,
            "object_fit": null,
            "grid_auto_columns": null,
            "margin": null,
            "display": null,
            "left": null
          }
        },
        "ec386c889e334862ac4f1d16ec1bf166": {
          "model_module": "@jupyter-widgets/controls",
          "model_name": "DescriptionStyleModel",
          "state": {
            "_view_name": "StyleView",
            "_model_name": "DescriptionStyleModel",
            "description_width": "",
            "_view_module": "@jupyter-widgets/base",
            "_model_module_version": "1.5.0",
            "_view_count": null,
            "_view_module_version": "1.2.0",
            "_model_module": "@jupyter-widgets/controls"
          }
        },
        "1c535d1dc1354c7593f8fbce9a4f72ec": {
          "model_module": "@jupyter-widgets/base",
          "model_name": "LayoutModel",
          "state": {
            "_view_name": "LayoutView",
            "grid_template_rows": null,
            "right": null,
            "justify_content": null,
            "_view_module": "@jupyter-widgets/base",
            "overflow": null,
            "_model_module_version": "1.2.0",
            "_view_count": null,
            "flex_flow": null,
            "width": null,
            "min_width": null,
            "border": null,
            "align_items": null,
            "bottom": null,
            "_model_module": "@jupyter-widgets/base",
            "top": null,
            "grid_column": null,
            "overflow_y": null,
            "overflow_x": null,
            "grid_auto_flow": null,
            "grid_area": null,
            "grid_template_columns": null,
            "flex": null,
            "_model_name": "LayoutModel",
            "justify_items": null,
            "grid_row": null,
            "max_height": null,
            "align_content": null,
            "visibility": null,
            "align_self": null,
            "height": null,
            "min_height": null,
            "padding": null,
            "grid_auto_rows": null,
            "grid_gap": null,
            "max_width": null,
            "order": null,
            "_view_module_version": "1.2.0",
            "grid_template_areas": null,
            "object_position": null,
            "object_fit": null,
            "grid_auto_columns": null,
            "margin": null,
            "display": null,
            "left": null
          }
        }
      }
    }
  },
  "cells": [
    {
      "cell_type": "code",
      "metadata": {
        "colab": {
          "base_uri": "https://localhost:8080/"
        },
        "id": "RtNe20PgzNdn",
        "outputId": "3b35ac5c-e776-4ded-861a-ca58e1ba6383"
      },
      "source": [
        "!nvidia-smi"
      ],
      "execution_count": 1,
      "outputs": [
        {
          "output_type": "stream",
          "text": [
            "Sat May  8 11:49:45 2021       \n",
            "+-----------------------------------------------------------------------------+\n",
            "| NVIDIA-SMI 465.19.01    Driver Version: 460.32.03    CUDA Version: 11.2     |\n",
            "|-------------------------------+----------------------+----------------------+\n",
            "| GPU  Name        Persistence-M| Bus-Id        Disp.A | Volatile Uncorr. ECC |\n",
            "| Fan  Temp  Perf  Pwr:Usage/Cap|         Memory-Usage | GPU-Util  Compute M. |\n",
            "|                               |                      |               MIG M. |\n",
            "|===============================+======================+======================|\n",
            "|   0  Tesla T4            Off  | 00000000:00:04.0 Off |                    0 |\n",
            "| N/A   54C    P8    10W /  70W |      0MiB / 15109MiB |      0%      Default |\n",
            "|                               |                      |                  N/A |\n",
            "+-------------------------------+----------------------+----------------------+\n",
            "                                                                               \n",
            "+-----------------------------------------------------------------------------+\n",
            "| Processes:                                                                  |\n",
            "|  GPU   GI   CI        PID   Type   Process name                  GPU Memory |\n",
            "|        ID   ID                                                   Usage      |\n",
            "|=============================================================================|\n",
            "|  No running processes found                                                 |\n",
            "+-----------------------------------------------------------------------------+\n"
          ],
          "name": "stdout"
        }
      ]
    },
    {
      "cell_type": "code",
      "metadata": {
        "id": "eX72t1ybzUJG"
      },
      "source": [
        "import numpy as np\n",
        "import torch\n",
        "import torch.nn as nn\n",
        "import torch.nn.functional as F\n",
        "import torch.optim as optim\n",
        "import matplotlib.pyplot as plt\n",
        "from torch.utils.data.sampler import SubsetRandomSampler\n",
        "from torch.utils.data import DataLoader\n",
        "from torchvision import datasets, transforms\n",
        "import matplotlib.pyplot as plt\n",
        "%matplotlib inline\n",
        "import torch.nn as nn\n",
        "import torch.nn.functional as F"
      ],
      "execution_count": 2,
      "outputs": []
    },
    {
      "cell_type": "code",
      "metadata": {
        "colab": {
          "base_uri": "https://localhost:8080/",
          "height": 118,
          "referenced_widgets": [
            "95444ec7b0b04d65aa365712dd724da2",
            "e0ea4b753d32467ba17728bb6b90f308",
            "2f5bc47ec757494986a397c9aa00eb21",
            "224cd747177b47da847a8a0e44ffab1e",
            "983c305520c144858ac183ecd0d28a4d",
            "e10596e38eb04bb5b586ffdc695c92cb",
            "ec386c889e334862ac4f1d16ec1bf166",
            "1c535d1dc1354c7593f8fbce9a4f72ec"
          ]
        },
        "id": "v9QQ-yTUzX0i",
        "outputId": "d41d8b8c-27a9-450b-c65a-ea2367412084"
      },
      "source": [
        "#Converting data to torch.FloatTensor\n",
        "transform = transforms.ToTensor()\n",
        "\n",
        "# Download the training and test datasets\n",
        "train_data = datasets.CIFAR10(root='data', train=True, download=True, transform=transform)\n",
        "\n",
        "test_data = datasets.CIFAR10(root='data', train=False, download=True, transform=transform)"
      ],
      "execution_count": 3,
      "outputs": [
        {
          "output_type": "stream",
          "text": [
            "Downloading https://www.cs.toronto.edu/~kriz/cifar-10-python.tar.gz to data/cifar-10-python.tar.gz\n"
          ],
          "name": "stdout"
        },
        {
          "output_type": "display_data",
          "data": {
            "application/vnd.jupyter.widget-view+json": {
              "model_id": "95444ec7b0b04d65aa365712dd724da2",
              "version_minor": 0,
              "version_major": 2
            },
            "text/plain": [
              "HBox(children=(FloatProgress(value=0.0, max=170498071.0), HTML(value='')))"
            ]
          },
          "metadata": {
            "tags": []
          }
        },
        {
          "output_type": "stream",
          "text": [
            "\n",
            "Extracting data/cifar-10-python.tar.gz to data\n",
            "Files already downloaded and verified\n"
          ],
          "name": "stdout"
        }
      ]
    },
    {
      "cell_type": "code",
      "metadata": {
        "id": "TpZqJja9za_w"
      },
      "source": [
        "#Prepare data loaders\n",
        "train_loader = torch.utils.data.DataLoader(train_data, batch_size=32, num_workers=0)\n",
        "test_loader = torch.utils.data.DataLoader(test_data, batch_size=32, num_workers=0)"
      ],
      "execution_count": 4,
      "outputs": []
    },
    {
      "cell_type": "code",
      "metadata": {
        "colab": {
          "base_uri": "https://localhost:8080/",
          "height": 485
        },
        "id": "LBRelhaCzdLW",
        "outputId": "c91f4b2b-4981-4947-b82d-661b50987646"
      },
      "source": [
        "#Utility functions to un-normalize and display an image\n",
        "def imshow(img):\n",
        "    img = img / 2 + 0.5  \n",
        "    plt.imshow(np.transpose(img, (1, 2, 0))) \n",
        "\n",
        " \n",
        "#Define the image classes\n",
        "classes = ['airplane', 'automobile', 'bird', 'cat', 'deer', 'dog', 'frog', 'horse', 'ship', 'truck']\n",
        "\n",
        "#Obtain one batch of training images\n",
        "dataiter = iter(train_loader)\n",
        "images, labels = dataiter.next()\n",
        "images = images.numpy() # convert images to numpy for display\n",
        "\n",
        "#Plot the images\n",
        "fig = plt.figure(figsize=(8, 8))\n",
        "# display 20 images\n",
        "for idx in np.arange(9):\n",
        "    ax = fig.add_subplot(3, 3, idx+1, xticks=[], yticks=[])\n",
        "    imshow(images[idx])\n",
        "    ax.set_title(classes[labels[idx]])"
      ],
      "execution_count": 5,
      "outputs": [
        {
          "output_type": "display_data",
          "data": {
            "image/png": "[encoded data removed]",
            "text/plain": [
              "<Figure size 576x576 with 9 Axes>"
            ]
          },
          "metadata": {
            "tags": []
          }
        }
      ]
    },
    {
      "cell_type": "code",
      "metadata": {
        "colab": {
          "base_uri": "https://localhost:8080/"
        },
        "id": "mTr_8Fx5zhf6",
        "outputId": "2f0a9464-8387-4ab8-d77a-1a5a2067f214"
      },
      "source": [
        "#Define the Convolutional Autoencoder\n",
        "class ConvAutoencoder(nn.Module):\n",
        "    def __init__(self):\n",
        "        super(ConvAutoencoder, self).__init__()\n",
        "       \n",
        "        #Encoder\n",
        "        self.conv1 = nn.Conv2d(3, 16, 3, padding=1)  \n",
        "        self.conv2 = nn.Conv2d(16, 4, 3, padding=1)\n",
        "        self.pool = nn.MaxPool2d(2, 2)\n",
        "       \n",
        "        #Decoder\n",
        "        self.t_conv1 = nn.ConvTranspose2d(4, 16, 2, stride=2)\n",
        "        self.t_conv2 = nn.ConvTranspose2d(16, 3, 2, stride=2)\n",
        "\n",
        "\n",
        "    def forward(self, x):\n",
        "        x = F.relu(self.conv1(x))\n",
        "        x = self.pool(x)\n",
        "        x = F.relu(self.conv2(x))\n",
        "        x = self.pool(x)\n",
        "        x = F.relu(self.t_conv1(x))\n",
        "        x = F.sigmoid(self.t_conv2(x))\n",
        "              \n",
        "        return x\n",
        "\n",
        "\n",
        "#Instantiate the model\n",
        "model = ConvAutoencoder()\n",
        "print(model)\n"
      ],
      "execution_count": 6,
      "outputs": [
        {
          "output_type": "stream",
          "text": [
            "ConvAutoencoder(\n",
            "  (conv1): Conv2d(3, 16, kernel_size=(3, 3), stride=(1, 1), padding=(1, 1))\n",
            "  (conv2): Conv2d(16, 4, kernel_size=(3, 3), stride=(1, 1), padding=(1, 1))\n",
            "  (pool): MaxPool2d(kernel_size=2, stride=2, padding=0, dilation=1, ceil_mode=False)\n",
            "  (t_conv1): ConvTranspose2d(4, 16, kernel_size=(2, 2), stride=(2, 2))\n",
            "  (t_conv2): ConvTranspose2d(16, 3, kernel_size=(2, 2), stride=(2, 2))\n",
            ")\n"
          ],
          "name": "stdout"
        }
      ]
    },
    {
      "cell_type": "code",
      "metadata": {
        "id": "ajyvSwQXzkIx"
      },
      "source": [
        "#Loss function\n",
        "criterion = nn.BCELoss()\n",
        "\n",
        "#Optimizer\n",
        "optimizer = torch.optim.Adam(model.parameters(), lr=0.001)"
      ],
      "execution_count": 7,
      "outputs": []
    },
    {
      "cell_type": "code",
      "metadata": {
        "colab": {
          "base_uri": "https://localhost:8080/"
        },
        "id": "w9BxxklOzmTk",
        "outputId": "a2bafc4a-56f3-4592-cbd0-a3661e982c93"
      },
      "source": [
        "def get_device():\n",
        "    if torch.cuda.is_available():\n",
        "        device = 'cuda:0'\n",
        "    else:\n",
        "        device = 'cpu'\n",
        "    return device\n",
        "\n",
        "device = get_device()\n",
        "print(device)\n",
        "model.to(device)"
      ],
      "execution_count": 8,
      "outputs": [
        {
          "output_type": "stream",
          "text": [
            "cuda:0\n"
          ],
          "name": "stdout"
        },
        {
          "output_type": "execute_result",
          "data": {
            "text/plain": [
              "ConvAutoencoder(\n",
              "  (conv1): Conv2d(3, 16, kernel_size=(3, 3), stride=(1, 1), padding=(1, 1))\n",
              "  (conv2): Conv2d(16, 4, kernel_size=(3, 3), stride=(1, 1), padding=(1, 1))\n",
              "  (pool): MaxPool2d(kernel_size=2, stride=2, padding=0, dilation=1, ceil_mode=False)\n",
              "  (t_conv1): ConvTranspose2d(4, 16, kernel_size=(2, 2), stride=(2, 2))\n",
              "  (t_conv2): ConvTranspose2d(16, 3, kernel_size=(2, 2), stride=(2, 2))\n",
              ")"
            ]
          },
          "metadata": {
            "tags": []
          },
          "execution_count": 8
        }
      ]
    },
    {
      "cell_type": "code",
      "metadata": {
        "colab": {
          "base_uri": "https://localhost:8080/"
        },
        "id": "pKiAD4iLzoft",
        "outputId": "2e0f24dc-cb33-45c1-ee92-734f7d63f1be"
      },
      "source": [
        "#Epochs\n",
        "n_epochs = 100\n",
        "\n",
        "for epoch in range(1, n_epochs+1):\n",
        "    # monitor training loss\n",
        "    train_loss = 0.0\n",
        "\n",
        "    #Training\n",
        "    for data in train_loader:\n",
        "        images, _ = data\n",
        "        images = images.to(device)\n",
        "        optimizer.zero_grad()\n",
        "        outputs = model(images)\n",
        "        loss = criterion(outputs, images)\n",
        "        loss.backward()\n",
        "        optimizer.step()\n",
        "        train_loss += loss.item()*images.size(0)\n",
        "          \n",
        "    train_loss = train_loss/len(train_loader)\n",
        "    print('Epoch: {} of {} \\tTraining Loss: {:.6f}'.format(epoch, n_epochs, train_loss))"
      ],
      "execution_count": 11,
      "outputs": [
        {
          "output_type": "stream",
          "text": [
            "/usr/local/lib/python3.7/dist-packages/torch/nn/functional.py:1709: UserWarning: nn.functional.sigmoid is deprecated. Use torch.sigmoid instead.\n",
            "  warnings.warn(\"nn.functional.sigmoid is deprecated. Use torch.sigmoid instead.\")\n"
          ],
          "name": "stderr"
        },
        {
          "output_type": "stream",
          "text": [
            "Epoch: 1 of 100 \tTraining Loss: 18.037465\n",
            "Epoch: 2 of 100 \tTraining Loss: 18.037122\n",
            "Epoch: 3 of 100 \tTraining Loss: 18.036808\n",
            "Epoch: 4 of 100 \tTraining Loss: 18.036505\n",
            "Epoch: 5 of 100 \tTraining Loss: 18.036213\n",
            "Epoch: 6 of 100 \tTraining Loss: 18.035935\n",
            "Epoch: 7 of 100 \tTraining Loss: 18.035669\n",
            "Epoch: 8 of 100 \tTraining Loss: 18.035412\n",
            "Epoch: 9 of 100 \tTraining Loss: 18.035169\n",
            "Epoch: 10 of 100 \tTraining Loss: 18.034937\n",
            "Epoch: 11 of 100 \tTraining Loss: 18.034714\n",
            "Epoch: 12 of 100 \tTraining Loss: 18.034507\n",
            "Epoch: 13 of 100 \tTraining Loss: 18.034303\n",
            "Epoch: 14 of 100 \tTraining Loss: 18.034106\n",
            "Epoch: 15 of 100 \tTraining Loss: 18.033916\n",
            "Epoch: 16 of 100 \tTraining Loss: 18.033739\n",
            "Epoch: 17 of 100 \tTraining Loss: 18.033562\n",
            "Epoch: 18 of 100 \tTraining Loss: 18.033397\n",
            "Epoch: 19 of 100 \tTraining Loss: 18.033233\n",
            "Epoch: 20 of 100 \tTraining Loss: 18.033077\n",
            "Epoch: 21 of 100 \tTraining Loss: 18.032921\n",
            "Epoch: 22 of 100 \tTraining Loss: 18.032776\n",
            "Epoch: 23 of 100 \tTraining Loss: 18.032629\n",
            "Epoch: 24 of 100 \tTraining Loss: 18.032487\n",
            "Epoch: 25 of 100 \tTraining Loss: 18.032345\n",
            "Epoch: 26 of 100 \tTraining Loss: 18.032207\n",
            "Epoch: 27 of 100 \tTraining Loss: 18.032076\n",
            "Epoch: 28 of 100 \tTraining Loss: 18.031943\n",
            "Epoch: 29 of 100 \tTraining Loss: 18.031812\n",
            "Epoch: 30 of 100 \tTraining Loss: 18.031685\n",
            "Epoch: 31 of 100 \tTraining Loss: 18.031564\n",
            "Epoch: 32 of 100 \tTraining Loss: 18.031445\n",
            "Epoch: 33 of 100 \tTraining Loss: 18.031327\n",
            "Epoch: 34 of 100 \tTraining Loss: 18.031214\n",
            "Epoch: 35 of 100 \tTraining Loss: 18.031103\n",
            "Epoch: 36 of 100 \tTraining Loss: 18.030988\n",
            "Epoch: 37 of 100 \tTraining Loss: 18.030881\n",
            "Epoch: 38 of 100 \tTraining Loss: 18.030775\n",
            "Epoch: 39 of 100 \tTraining Loss: 18.030672\n",
            "Epoch: 40 of 100 \tTraining Loss: 18.030570\n",
            "Epoch: 41 of 100 \tTraining Loss: 18.030469\n",
            "Epoch: 42 of 100 \tTraining Loss: 18.030370\n",
            "Epoch: 43 of 100 \tTraining Loss: 18.030269\n",
            "Epoch: 44 of 100 \tTraining Loss: 18.030174\n",
            "Epoch: 45 of 100 \tTraining Loss: 18.030078\n",
            "Epoch: 46 of 100 \tTraining Loss: 18.029985\n",
            "Epoch: 47 of 100 \tTraining Loss: 18.029889\n",
            "Epoch: 48 of 100 \tTraining Loss: 18.029795\n",
            "Epoch: 49 of 100 \tTraining Loss: 18.029704\n",
            "Epoch: 50 of 100 \tTraining Loss: 18.029613\n",
            "Epoch: 51 of 100 \tTraining Loss: 18.029523\n",
            "Epoch: 52 of 100 \tTraining Loss: 18.029431\n",
            "Epoch: 53 of 100 \tTraining Loss: 18.029342\n",
            "Epoch: 54 of 100 \tTraining Loss: 18.029251\n",
            "Epoch: 55 of 100 \tTraining Loss: 18.029162\n",
            "Epoch: 56 of 100 \tTraining Loss: 18.029070\n",
            "Epoch: 57 of 100 \tTraining Loss: 18.028985\n",
            "Epoch: 58 of 100 \tTraining Loss: 18.028897\n",
            "Epoch: 59 of 100 \tTraining Loss: 18.028814\n",
            "Epoch: 60 of 100 \tTraining Loss: 18.028731\n",
            "Epoch: 61 of 100 \tTraining Loss: 18.028646\n",
            "Epoch: 62 of 100 \tTraining Loss: 18.028565\n",
            "Epoch: 63 of 100 \tTraining Loss: 18.028485\n",
            "Epoch: 64 of 100 \tTraining Loss: 18.028408\n",
            "Epoch: 65 of 100 \tTraining Loss: 18.028325\n",
            "Epoch: 66 of 100 \tTraining Loss: 18.028250\n",
            "Epoch: 67 of 100 \tTraining Loss: 18.028170\n",
            "Epoch: 68 of 100 \tTraining Loss: 18.028090\n",
            "Epoch: 69 of 100 \tTraining Loss: 18.028012\n",
            "Epoch: 70 of 100 \tTraining Loss: 18.027927\n",
            "Epoch: 71 of 100 \tTraining Loss: 18.027847\n",
            "Epoch: 72 of 100 \tTraining Loss: 18.027775\n",
            "Epoch: 73 of 100 \tTraining Loss: 18.027696\n",
            "Epoch: 74 of 100 \tTraining Loss: 18.027616\n",
            "Epoch: 75 of 100 \tTraining Loss: 18.027542\n",
            "Epoch: 76 of 100 \tTraining Loss: 18.027464\n",
            "Epoch: 77 of 100 \tTraining Loss: 18.027392\n",
            "Epoch: 78 of 100 \tTraining Loss: 18.027320\n",
            "Epoch: 79 of 100 \tTraining Loss: 18.027245\n",
            "Epoch: 80 of 100 \tTraining Loss: 18.027171\n",
            "Epoch: 81 of 100 \tTraining Loss: 18.027096\n",
            "Epoch: 82 of 100 \tTraining Loss: 18.027024\n",
            "Epoch: 83 of 100 \tTraining Loss: 18.026951\n",
            "Epoch: 84 of 100 \tTraining Loss: 18.026869\n",
            "Epoch: 85 of 100 \tTraining Loss: 18.026795\n",
            "Epoch: 86 of 100 \tTraining Loss: 18.026722\n",
            "Epoch: 87 of 100 \tTraining Loss: 18.026653\n",
            "Epoch: 88 of 100 \tTraining Loss: 18.026584\n",
            "Epoch: 89 of 100 \tTraining Loss: 18.026511\n",
            "Epoch: 90 of 100 \tTraining Loss: 18.026446\n",
            "Epoch: 91 of 100 \tTraining Loss: 18.026375\n",
            "Epoch: 92 of 100 \tTraining Loss: 18.026309\n",
            "Epoch: 93 of 100 \tTraining Loss: 18.026244\n",
            "Epoch: 94 of 100 \tTraining Loss: 18.026173\n",
            "Epoch: 95 of 100 \tTraining Loss: 18.026107\n",
            "Epoch: 96 of 100 \tTraining Loss: 18.026042\n",
            "Epoch: 97 of 100 \tTraining Loss: 18.025980\n",
            "Epoch: 98 of 100 \tTraining Loss: 18.025913\n",
            "Epoch: 99 of 100 \tTraining Loss: 18.025847\n",
            "Epoch: 100 of 100 \tTraining Loss: 18.025787\n"
          ],
          "name": "stdout"
        }
      ]
    },
    {
      "cell_type": "code",
      "metadata": {
        "colab": {
          "base_uri": "https://localhost:8080/",
          "height": 608
        },
        "id": "3F5T3F6pzqaH",
        "outputId": "df65fd5f-5a71-4e2f-941d-d2a38cdfbb72"
      },
      "source": [
        "#Batch of test images\n",
        "dataiter = iter(test_loader)\n",
        "images, labels = dataiter.next()\n",
        "\n",
        "#Sample outputs\n",
        "output = model(images.to(device))\n",
        "\n",
        "images = images.numpy()\n",
        "\n",
        "output = output.view(32, 3, 32, 32)\n",
        "#output = output.detach().numpy()\n",
        "output = output.detach().cpu()\n",
        "\n",
        "#Original Images\n",
        "print(\"Original Images\")\n",
        "fig, axes = plt.subplots(nrows=1, ncols=5, sharex=True, sharey=True, figsize=(12,4))\n",
        "for idx in np.arange(5):\n",
        "    ax = fig.add_subplot(1, 5, idx+1, xticks=[], yticks=[])\n",
        "    imshow(images[idx])\n",
        "    ax.set_title(classes[labels[idx]])\n",
        "plt.show()\n",
        "\n",
        "#Reconstructed Images\n",
        "print('Reconstructed Images')\n",
        "fig, axes = plt.subplots(nrows=1, ncols=5, sharex=True, sharey=True, figsize=(12,4))\n",
        "for idx in np.arange(5):\n",
        "    ax = fig.add_subplot(1, 5, idx+1, xticks=[], yticks=[])\n",
        "    imshow(output[idx])\n",
        "    ax.set_title(classes[labels[idx]])\n",
        "plt.show() \n",
        "plt.savefig('image_sample.png')"
      ],
      "execution_count": 20,
      "outputs": [
        {
          "output_type": "stream",
          "text": [
            "/usr/local/lib/python3.7/dist-packages/torch/nn/functional.py:1709: UserWarning: nn.functional.sigmoid is deprecated. Use torch.sigmoid instead.\n",
            "  warnings.warn(\"nn.functional.sigmoid is deprecated. Use torch.sigmoid instead.\")\n"
          ],
          "name": "stderr"
        },
        {
          "output_type": "stream",
          "text": [
            "Original Images\n"
          ],
          "name": "stdout"
        },
        {
          "output_type": "display_data",
          "data": {
            "image/png": "[encoded data removed]",
            "text/plain": [
              "<Figure size 864x288 with 10 Axes>"
            ]
          },
          "metadata": {
            "tags": [],
            "needs_background": "light"
          }
        },
        {
          "output_type": "stream",
          "text": [
            "Reconstructed Images\n"
          ],
          "name": "stdout"
        },
        {
          "output_type": "display_data",
          "data": {
            "image/png": "[encoded data removed]",
            "text/plain": [
              "<Figure size 864x288 with 10 Axes>"
            ]
          },
          "metadata": {
            "tags": [],
            "needs_background": "light"
          }
        },
        {
          "output_type": "display_data",
          "data": {
            "text/plain": [
              "<Figure size 432x288 with 0 Axes>"
            ]
          },
          "metadata": {
            "tags": []
          }
        }
      ]
    },
    {
      "cell_type": "code",
      "metadata": {
        "id": "v0SVhoj5zthb"
      },
      "source": [
        ""
      ],
      "execution_count": null,
      "outputs": []
    }
  ]
}